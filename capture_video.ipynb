{
 "cells": [
  {
   "cell_type": "markdown",
   "metadata": {},
   "source": [
    "# Required libraries"
   ]
  },
  {
   "cell_type": "code",
   "execution_count": 1,
   "metadata": {},
   "outputs": [],
   "source": [
    "import cv2\n",
    "import time\n",
    "import os\n",
    "import json\n",
    "import itertools"
   ]
  },
  {
   "cell_type": "markdown",
   "metadata": {},
   "source": [
    "# Define auxiliary functions"
   ]
  },
  {
   "cell_type": "code",
   "execution_count": 2,
   "metadata": {},
   "outputs": [],
   "source": [
    "def reduce_timer(cur, prev, timer):\n",
    "    if ( cur - prev ) >= 1:\n",
    "        prev = cur\n",
    "        timer -= 1\n",
    "    \n",
    "    return prev, timer\n",
    "\n",
    "# Displays a countdown for \"timer\" seconds before recording starts\n",
    "def countdown(timer):\n",
    "    prev = time.time()\n",
    "    while timer >= 0:\n",
    "        ret, frame = cap.read()\n",
    "        show_message(frame, timer)\n",
    "        cv2.imshow('', frame)\n",
    "        cv2.waitKey(1)\n",
    " \n",
    "        prev, timer = reduce_timer(time.time(), prev, timer)\n",
    "    cv2.destroyAllWindows()\n",
    "\n",
    "# Records the video feed for the specified \"timer\" seconds\n",
    "def record(out, timer):\n",
    "    num_frames = int(RECORD_TIME * FPS)\n",
    "#     while timer >= 0:\n",
    "    for _ in range(num_frames):\n",
    "        ret, frame = cap.read()\n",
    "        cv2.imshow('', frame)\n",
    "        out.write(frame)\n",
    "        cv2.waitKey(1)\n",
    "                \n",
    "#         prev, timer = reduce_timer(time.time(), prev, timer)\n",
    "    cv2.destroyAllWindows()\n",
    "    out.release()\n",
    "\n",
    "# Draws text on video\n",
    "def show_message(frame, message, coords=(250, 250), font_size=7):\n",
    "    cv2.putText(frame, str(message), coords, cv2.FONT_HERSHEY_SIMPLEX, font_size, (0, 255, 255), 4, cv2.LINE_AA)\n",
    "\n",
    "# def get_first_label(indexes):\n",
    "#     current_index = None\n",
    "    \n",
    "#     for i, index in enumerate(indexes):\n",
    "#         if current_index is None:\n",
    "#             current_index = index\n",
    "#         else:\n",
    "#             if indexes[current_index] != indexes[index]:\n",
    "#                 return i\n",
    "#             else:\n",
    "#                 current_index = index\n",
    "#     return 0\n",
    "\n",
    "def get_next_label_index(values):\n",
    "    return values.index(min(values))\n",
    "    \n",
    "def label_generator(labels, indexes):\n",
    "    num = get_next_label_index(tuple(indexes.values()))\n",
    "    \n",
    "    while True:\n",
    "        yield num + 1, labels[num]\n",
    "#         num = ( num + 1 ) % len(labels)\n",
    "        num = get_next_label_index(tuple(indexes.values()))"
   ]
  },
  {
   "cell_type": "markdown",
   "metadata": {},
   "source": [
    "# Define constants"
   ]
  },
  {
   "cell_type": "code",
   "execution_count": 3,
   "metadata": {},
   "outputs": [],
   "source": [
    "ROOT_FOLDER = 'dataset_multi_signer'\n",
    "# CAMBIAR AQUI\n",
    "SIGNER = 'signer1'\n",
    "labels = (\n",
    "            'good_morning',\n",
    "            'good_afternoon',\n",
    "            'good_evening',\n",
    "            'hi',\n",
    "            'bye',\n",
    "            'see_you_tomorrow',\n",
    "            'see_you_later',\n",
    "            'family',\n",
    "            'mom',\n",
    "            'dad',\n",
    "            'son',\n",
    "            'brother',\n",
    "            'cousin',\n",
    "            'person',\n",
    "            'neighbour',\n",
    "            'kid',\n",
    "            'youngster',\n",
    "            'adult',\n",
    "            'elder',\n",
    "            'baby'\n",
    "        )\n",
    "partitions = ('train', 'test')\n",
    "label_count_txt = 'label_count.txt'\n",
    "ALL_DIR = 'all'\n",
    "RECORD_TIME = 1.5\n",
    "WAIT_TIME = 2\n",
    "FPS = 30"
   ]
  },
  {
   "cell_type": "markdown",
   "metadata": {},
   "source": [
    "# Create folders"
   ]
  },
  {
   "cell_type": "code",
   "execution_count": 4,
   "metadata": {},
   "outputs": [],
   "source": [
    "if ROOT_FOLDER in os.getcwd():\n",
    "    os.chdir('..')\n",
    "\n",
    "if not os.path.exists(ROOT_FOLDER):\n",
    "    os.makedirs(ROOT_FOLDER)\n",
    "\n",
    "os.chdir(ROOT_FOLDER)\n",
    "\n",
    "if not os.path.exists(ALL_DIR):\n",
    "    os.makedirs(ALL_DIR)\n",
    "\n",
    "# Create \"all\" folder for storing samples by label\n",
    "if os.path.exists(ALL_DIR):\n",
    "    for label in labels:\n",
    "        path = os.path.join(ALL_DIR, label)\n",
    "        if not os.path.exists(path):\n",
    "            os.makedirs(path)\n",
    "            print(f'Folder {path} created')\n",
    "\n",
    "    # Create partition/label folders\n",
    "    for partition, label in itertools.product(partitions, labels):\n",
    "        path = os.path.join(partition, label)\n",
    "        if not os.path.exists(path):\n",
    "            os.makedirs(path)\n",
    "            print(f'Folder {path} created')"
   ]
  },
  {
   "cell_type": "markdown",
   "metadata": {},
   "source": [
    "# Load and check indexes for each label"
   ]
  },
  {
   "cell_type": "code",
   "execution_count": 5,
   "metadata": {
    "scrolled": true
   },
   "outputs": [],
   "source": [
    "#Create file and add default 0 count dictionary\n",
    "if not os.path.exists(label_count_txt):\n",
    "    with open(label_count_txt, 'w+') as f:\n",
    "        default_label_count = {label: 0 for label in labels}\n",
    "        f.write(json.dumps(default_label_count))\n",
    "        print(f'File {label_count_txt} with default label count dictionary created')\n",
    "\n",
    "# Verify the label count and number of files in folder match\n",
    "# for label in labels:\n",
    "#     if not indexes[label] == len([name for name in files if os.path.isfile(os.path.join(ALL_DIR, name)) and name.startswith(label)]):\n",
    "#         raise Exception(f'{label} - Label count differs from actual number of files in directory')"
   ]
  },
  {
   "cell_type": "markdown",
   "metadata": {},
   "source": [
    "# Record video"
   ]
  },
  {
   "cell_type": "code",
   "execution_count": 12,
   "metadata": {},
   "outputs": [
    {
     "name": "stdout",
     "output_type": "stream",
     "text": [
      "640.0\n",
      "480.0\n"
     ]
    }
   ],
   "source": [
    "timer = WAIT_TIME\n",
    "record_timer = RECORD_TIME\n",
    "cap = cv2.VideoCapture(0)\n",
    "\n",
    "with open(label_count_txt, 'r') as f:\n",
    "    label_count = f.read()\n",
    "\n",
    "if not label_count:\n",
    "    raise Exception(f'File {label_count_txt} is empty')\n",
    "    \n",
    "indexes = json.loads(label_count)\n",
    "gen = label_generator(labels, indexes)\n",
    "label_index, label = next(gen)\n",
    "\n",
    "if (cap.isOpened() == False):\n",
    "    raise Exception(\"Camera is not open\")\n",
    "\n",
    "cap.set(3, 640)\n",
    "cap.set(4, 480)\n",
    "\n",
    "frame_width = int(cap.get(3))\n",
    "frame_height = int(cap.get(4))\n",
    "    \n",
    "while cap.isOpened():\n",
    "    ret, frame = cap.read()\n",
    "    \n",
    "    if ret == False:\n",
    "        break\n",
    "    \n",
    "    show_message(frame, f'{label}-{label_index}', (0, int(0.95 * frame_height)), 1)\n",
    "    cv2.imshow('', frame)\n",
    "        \n",
    "    if cv2.waitKey(1) & 0xFF == ord('c'):\n",
    "        cv2.destroyAllWindows()\n",
    "        \n",
    "        countdown(timer)\n",
    "\n",
    "        indexes[label] += 1\n",
    "        out = cv2.VideoWriter(f'{label}-{SIGNER}-{indexes[label]}.mp4',\n",
    "                              cv2.VideoWriter_fourcc('D','I','V','X'),\n",
    "                              FPS, (frame_width, frame_height))\n",
    "        \n",
    "        record(out, record_timer)\n",
    "        \n",
    "        timer = WAIT_TIME\n",
    "        record_timer = RECORD_TIME\n",
    "        label_index, label = next(gen)\n",
    "        \n",
    "        with open(label_count_txt, 'w') as f:\n",
    "            f.write(json.dumps(indexes))\n",
    "        \n",
    "    if cv2.waitKey(1) & 0xFF == ord('q'):\n",
    "        break\n",
    "        \n",
    "cap.release()\n",
    "cv2.destroyAllWindows()"
   ]
  }
 ],
 "metadata": {
  "kernelspec": {
   "display_name": "Python 3 (ipykernel)",
   "language": "python",
   "name": "python3"
  },
  "language_info": {
   "codemirror_mode": {
    "name": "ipython",
    "version": 3
   },
   "file_extension": ".py",
   "mimetype": "text/x-python",
   "name": "python",
   "nbconvert_exporter": "python",
   "pygments_lexer": "ipython3",
   "version": "3.7.13"
  },
  "toc": {
   "base_numbering": 1,
   "nav_menu": {
    "height": "369px",
    "width": "281px"
   },
   "number_sections": true,
   "sideBar": true,
   "skip_h1_title": false,
   "title_cell": "Table of Contents",
   "title_sidebar": "Contents",
   "toc_cell": false,
   "toc_position": {},
   "toc_section_display": true,
   "toc_window_display": false
  }
 },
 "nbformat": 4,
 "nbformat_minor": 4
}
